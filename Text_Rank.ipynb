{
 "cells": [
  {
   "cell_type": "markdown",
   "metadata": {},
   "source": [
    "# Graph Construction\n",
    "\n",
    "Let's look at how to build a graph from a raw text, based on http://web.eecs.umich.edu/~mihalcea/papers/mihalcea.emnlp04.pdf"
   ]
  },
  {
   "cell_type": "code",
   "execution_count": 2,
   "metadata": {},
   "outputs": [],
   "source": [
    "import spacy\n",
    "\n",
    "nlp = spacy.load(\"en_core_web_sm\")"
   ]
  },
  {
   "cell_type": "code",
   "execution_count": 66,
   "metadata": {},
   "outputs": [],
   "source": [
    "#text = \"When Ada was twelve years old, this future 'Lady Fairy', as Charles Babbage affectionately called her, decided she wanted to fly. Ada Byron went about the project methodically, thoughtfully, with imagination and passion. Her first step, in February 1828, was to construct wings. She investigated different material and sizes. She considered various materials for the wings: paper, oilsilk, wires, and feathers. She examined the anatomy of birds to determine the right proportion between the wings and the body. She decided to write a book, Flyology, illustrating, with plates, some of her findings. She decided what equipment she would need; for example, a compass, to 'cut across the country by the most direct road', so that she could surmount mountains, rivers, and valleys. Her final step was to integrate steam with the 'art of flying.\"\n",
    "text = \"Compatibility of systems of linear constraints over the set of natural numbers. Criteria of compatibility of a system of linear Diophantine equations, strict inequations, and nonstrict inequations are considered. Upper bounds for components of a minimal set of solutions and algorithms of construction of minimal generating sets of solutions for all types of systems are given. These criteria and the corresponding algorithms for constructing a minimal supporting set of solutions can be used in solving all the considered types systems and systems of mixed types.\"\n",
    "\n",
    "doc = nlp(text)"
   ]
  },
  {
   "cell_type": "code",
   "execution_count": 67,
   "metadata": {},
   "outputs": [
    {
     "name": "stdout",
     "output_type": "stream",
     "text": [
      "Diophantine ORG\n"
     ]
    }
   ],
   "source": [
    "for ent in doc.ents:\n",
    "    print(ent.text, ent.label_)"
   ]
  },
  {
   "cell_type": "code",
   "execution_count": 68,
   "metadata": {},
   "outputs": [
    {
     "name": "stdout",
     "output_type": "stream",
     "text": [
      "Compatibility\n",
      "systems\n",
      "linear constraints\n",
      "the set\n",
      "natural numbers\n",
      "Criteria\n",
      "compatibility\n",
      "a system\n",
      "linear Diophantine equations\n",
      "strict inequations\n",
      "nonstrict inequations\n",
      "Upper bounds\n",
      "components\n",
      "a minimal set\n",
      "solutions\n",
      "algorithms\n",
      "construction\n",
      "minimal generating sets\n",
      "solutions\n",
      "all types\n",
      "systems\n",
      "These criteria\n",
      "the corresponding algorithms\n",
      "a minimal supporting set\n",
      "solutions\n",
      "all the considered types systems\n",
      "systems\n",
      "mixed types\n"
     ]
    }
   ],
   "source": [
    "for chunk in doc.noun_chunks:\n",
    "    print(chunk.text)"
   ]
  },
  {
   "cell_type": "code",
   "execution_count": 69,
   "metadata": {},
   "outputs": [
    {
     "name": "stdout",
     "output_type": "stream",
     "text": [
      "> 0 13\n",
      "> 13 33\n",
      "> 33 61\n",
      "> 61 91\n"
     ]
    }
   ],
   "source": [
    "for sent in doc.sents:\n",
    "    print(\">\", sent.start, sent.end)"
   ]
  },
  {
   "cell_type": "code",
   "execution_count": 70,
   "metadata": {},
   "outputs": [],
   "source": [
    "import networkx as nx\n",
    "\n",
    "graph = nx.Graph()\n",
    "seen = {}"
   ]
  },
  {
   "cell_type": "markdown",
   "metadata": {},
   "source": [
    "[spaCy part-of-speech tags](https://spacy.io/api/annotation#targetText=spaCy%20maps%20all%20language%2Dspecific,pos%20and%20Token.pos_%20attributes.)"
   ]
  },
  {
   "cell_type": "code",
   "execution_count": 71,
   "metadata": {},
   "outputs": [],
   "source": [
    "def increment_edge (graph, node0, node1):\n",
    "    if graph.has_edge(node0, node1):\n",
    "        graph[node0][node1][\"weight\"] += 1.0\n",
    "    else:\n",
    "        graph.add_edge(node0, node1, weight=1.0)"
   ]
  },
  {
   "cell_type": "code",
   "execution_count": 72,
   "metadata": {},
   "outputs": [],
   "source": [
    "def link_one_sent (doc, sent, graph, seen):\n",
    "    last_index = None\n",
    "    last_node_id = None\n",
    "\n",
    "    for i in range(sent.start, sent.end):\n",
    "        token = doc[i]\n",
    "\n",
    "        if token.pos_ in [\"ADJ\", \"NOUN\", \"PROPN\", \"VERB\"]:\n",
    "            key = (token.lemma_, token.pos_)\n",
    "\n",
    "            if key not in seen:\n",
    "                seen[key] = set([token.i])\n",
    "            else:\n",
    "                seen[key].add(token.i)\n",
    "\n",
    "            node_id = list(seen.keys()).index(key)\n",
    "\n",
    "            if not node_id in graph:\n",
    "                graph.add_node(node_id)\n",
    "\n",
    "            if last_index and (token.i - last_index <= 3):\n",
    "                increment_edge(graph, node_id, last_node_id)\n",
    "\n",
    "            print(token.i, token.text, token.lemma_, token.pos_, last_node_id)\n",
    "\n",
    "            last_index = token.i\n",
    "            last_node_id = node_id"
   ]
  },
  {
   "cell_type": "code",
   "execution_count": 73,
   "metadata": {},
   "outputs": [
    {
     "name": "stdout",
     "output_type": "stream",
     "text": [
      "0 Compatibility compatibility NOUN None\n",
      "2 systems system NOUN 0\n",
      "4 linear linear ADJ 1\n",
      "5 constraints constraint NOUN 2\n",
      "8 set set NOUN 3\n",
      "10 natural natural ADJ 4\n",
      "11 numbers number NOUN 5\n",
      "13 Criteria criterion NOUN None\n",
      "15 compatibility compatibility NOUN 7\n",
      "18 system system NOUN 0\n",
      "20 linear linear ADJ 1\n",
      "21 Diophantine Diophantine PROPN 2\n",
      "22 equations equation NOUN 8\n",
      "24 strict strict ADJ 9\n",
      "25 inequations inequation NOUN 10\n",
      "28 nonstrict nonstrict NOUN 11\n",
      "29 inequations inequation NOUN 12\n",
      "31 considered consider VERB 11\n",
      "33 Upper upper ADJ None\n",
      "34 bounds bound NOUN 14\n",
      "36 components component NOUN 15\n",
      "39 minimal minimal ADJ 16\n",
      "40 set set NOUN 17\n",
      "42 solutions solution NOUN 4\n",
      "44 algorithms algorithm NOUN 18\n",
      "46 construction construction NOUN 19\n",
      "48 minimal minimal ADJ 20\n",
      "49 generating generating NOUN 17\n",
      "50 sets set NOUN 21\n",
      "52 solutions solution NOUN 4\n",
      "55 types type NOUN 18\n",
      "57 systems system NOUN 22\n",
      "59 given give VERB 1\n",
      "62 criteria criterion NOUN None\n",
      "65 corresponding corresponding ADJ 7\n",
      "66 algorithms algorithm NOUN 24\n",
      "68 constructing construct VERB 19\n",
      "70 minimal minimal ADJ 25\n",
      "71 supporting support VERB 17\n",
      "72 set set NOUN 26\n",
      "74 solutions solution NOUN 4\n",
      "77 used use VERB 18\n",
      "79 solving solve VERB 27\n",
      "82 considered consider VERB 28\n",
      "83 types type NOUN 13\n",
      "84 systems system NOUN 22\n",
      "86 systems system NOUN 1\n",
      "88 mixed mixed ADJ 1\n",
      "89 types type NOUN 29\n",
      "{('compatibility', 'NOUN'): {0, 15}, ('system', 'NOUN'): {2, 18, 84, 86, 57}, ('linear', 'ADJ'): {4, 20}, ('constraint', 'NOUN'): {5}, ('set', 'NOUN'): {8, 40, 72, 50}, ('natural', 'ADJ'): {10}, ('number', 'NOUN'): {11}, ('criterion', 'NOUN'): {13, 62}, ('Diophantine', 'PROPN'): {21}, ('equation', 'NOUN'): {22}, ('strict', 'ADJ'): {24}, ('inequation', 'NOUN'): {25, 29}, ('nonstrict', 'NOUN'): {28}, ('consider', 'VERB'): {82, 31}, ('upper', 'ADJ'): {33}, ('bound', 'NOUN'): {34}, ('component', 'NOUN'): {36}, ('minimal', 'ADJ'): {48, 70, 39}, ('solution', 'NOUN'): {42, 52, 74}, ('algorithm', 'NOUN'): {66, 44}, ('construction', 'NOUN'): {46}, ('generating', 'NOUN'): {49}, ('type', 'NOUN'): {89, 83, 55}, ('give', 'VERB'): {59}, ('corresponding', 'ADJ'): {65}, ('construct', 'VERB'): {68}, ('support', 'VERB'): {71}, ('use', 'VERB'): {77}, ('solve', 'VERB'): {79}, ('mixed', 'ADJ'): {88}}\n"
     ]
    }
   ],
   "source": [
    "sent = [s for s in doc.sents]\n",
    "\n",
    "link_one_sent(doc, sent[0], graph, seen)\n",
    "link_one_sent(doc, sent[1], graph, seen)\n",
    "link_one_sent(doc, sent[2], graph, seen)\n",
    "link_one_sent(doc, sent[3], graph, seen)\n",
    "\n",
    "print(seen)"
   ]
  },
  {
   "cell_type": "code",
   "execution_count": 74,
   "metadata": {},
   "outputs": [
    {
     "data": {
      "text/plain": [
       "{0: 'compatibility',\n",
       " 1: 'system',\n",
       " 2: 'linear',\n",
       " 3: 'constraint',\n",
       " 4: 'set',\n",
       " 5: 'natural',\n",
       " 6: 'number',\n",
       " 7: 'criterion',\n",
       " 8: 'Diophantine',\n",
       " 9: 'equation',\n",
       " 10: 'strict',\n",
       " 11: 'inequation',\n",
       " 12: 'nonstrict',\n",
       " 13: 'consider',\n",
       " 14: 'upper',\n",
       " 15: 'bound',\n",
       " 16: 'component',\n",
       " 17: 'minimal',\n",
       " 18: 'solution',\n",
       " 19: 'algorithm',\n",
       " 20: 'construction',\n",
       " 21: 'generating',\n",
       " 22: 'type',\n",
       " 23: 'give',\n",
       " 24: 'corresponding',\n",
       " 25: 'construct',\n",
       " 26: 'support',\n",
       " 27: 'use',\n",
       " 28: 'solve',\n",
       " 29: 'mixed'}"
      ]
     },
     "execution_count": 74,
     "metadata": {},
     "output_type": "execute_result"
    }
   ],
   "source": [
    "labels = {}\n",
    "keys = list(seen.keys())\n",
    "\n",
    "for i in range(len(seen)):\n",
    "    labels[i] = keys[i][0]\n",
    "\n",
    "labels"
   ]
  },
  {
   "cell_type": "code",
   "execution_count": 75,
   "metadata": {},
   "outputs": [],
   "source": [
    "import sys\n",
    "import warnings\n",
    "\n",
    "warnings.filterwarnings(\"ignore\")"
   ]
  },
  {
   "cell_type": "code",
   "execution_count": 76,
   "metadata": {},
   "outputs": [
    {
     "data": {
      "text/plain": [
       "{0: Text(0.5082813428255236, -0.45338234994239657, 'compatibility'),\n",
       " 1: Text(0.25692437284064845, -0.3502350038110098, 'system'),\n",
       " 2: Text(0.3101122186529186, -0.14813011903841475, 'linear'),\n",
       " 3: Text(0.11839447487323629, 0.09228063538097611, 'constraint'),\n",
       " 4: Text(-0.11649353656609394, 0.31412675611446705, 'set'),\n",
       " 5: Text(-0.24943128410244397, 0.639978473985975, 'natural'),\n",
       " 6: Text(-0.3518046816632996, 0.8623107605784509, 'number'),\n",
       " 7: Text(0.6188350580464982, -0.29701330506980356, 'criterion'),\n",
       " 8: Text(0.5629694593501238, -0.13686731512174194, 'Diophantine'),\n",
       " 9: Text(0.5588432211442619, -0.27359836663389003, 'equation'),\n",
       " 10: Text(0.3378311933681876, -0.39053011320997033, 'strict'),\n",
       " 11: Text(0.029064450801098412, -0.48820211711588385, 'inequation'),\n",
       " 12: Text(-0.08131484414165847, -0.612261257808006, 'nonstrict'),\n",
       " 13: Text(-0.13923675595834725, -0.3799865857711799, 'consider'),\n",
       " 14: Text(-1.0, 0.13639685088817916, 'upper'),\n",
       " 15: Text(-0.8084273549813914, 0.2495773130290031, 'bound'),\n",
       " 16: Text(-0.5401484769920301, 0.3630211799719566, 'component'),\n",
       " 17: Text(-0.19517273448477396, 0.42459180766856014, 'minimal'),\n",
       " 18: Text(-0.05898171254864886, 0.09842683311252519, 'solution'),\n",
       " 19: Text(0.19222787167868208, 0.2204635532797186, 'algorithm'),\n",
       " 20: Text(0.03314079242681374, 0.37518148204768204, 'construction'),\n",
       " 21: Text(-0.2999078125694968, 0.43874230860432056, 'generating'),\n",
       " 22: Text(0.056366965425153515, -0.23888535304928993, 'type'),\n",
       " 23: Text(0.31077965864136253, -0.6192805336134786, 'give'),\n",
       " 24: Text(0.45248359131427285, -0.018963159681234087, 'corresponding'),\n",
       " 25: Text(0.0787255200263114, 0.4452355357320148, 'construct'),\n",
       " 26: Text(-0.12117860710671141, 0.535286624935701, 'support'),\n",
       " 27: Text(-0.26435773857110595, -0.08455193702800588, 'use'),\n",
       " 28: Text(-0.3291168062236762, -0.2902966934710699, 'solve'),\n",
       " 29: Text(0.1305921544945845, -0.41343590496415406, 'mixed')}"
      ]
     },
     "execution_count": 76,
     "metadata": {},
     "output_type": "execute_result"
    },
    {
     "data": {
      "image/png": "[encoded data removed]",
      "text/plain": [
       "<Figure size 432x288 with 1 Axes>"
      ]
     },
     "metadata": {},
     "output_type": "display_data"
    }
   ],
   "source": [
    "%matplotlib inline\n",
    "import matplotlib.pyplot as plt\n",
    "\n",
    "pos = nx.spring_layout(graph)\n",
    "nx.draw(graph, pos=pos, with_labels=False, font_weight=\"bold\")\n",
    "nx.draw_networkx_labels(graph, pos, labels)"
   ]
  },
  {
   "cell_type": "code",
   "execution_count": 77,
   "metadata": {},
   "outputs": [
    {
     "data": {
      "text/plain": [
       "{0: 0.02454710501782348,\n",
       " 1: 0.07883818813397488,\n",
       " 2: 0.042073911309562013,\n",
       " 3: 0.02236063299123213,\n",
       " 4: 0.07924352805417181,\n",
       " 5: 0.027663093364345394,\n",
       " 6: 0.01675664351838784,\n",
       " 7: 0.02628342624067896,\n",
       " 8: 0.02545458838307635,\n",
       " 9: 0.027089978802153438,\n",
       " 10: 0.02652393521246918,\n",
       " 11: 0.047104500480143544,\n",
       " 12: 0.02502044839873248,\n",
       " 13: 0.033763787713243634,\n",
       " 14: 0.019163349284110898,\n",
       " 15: 0.033323392320149345,\n",
       " 16: 0.02832030349584278,\n",
       " 17: 0.06463518976102747,\n",
       " 18: 0.05797062864286218,\n",
       " 19: 0.04405352193022517,\n",
       " 20: 0.023518613278606198,\n",
       " 21: 0.022576709832990604,\n",
       " 22: 0.04873776072095226,\n",
       " 23: 0.013376481462984216,\n",
       " 24: 0.025532282621713576,\n",
       " 25: 0.023518613278606198,\n",
       " 26: 0.022576709832990604,\n",
       " 27: 0.023680377765657637,\n",
       " 28: 0.024630270521940764,\n",
       " 29: 0.021662027629344972}"
      ]
     },
     "execution_count": 77,
     "metadata": {},
     "output_type": "execute_result"
    }
   ],
   "source": [
    "ranks = nx.pagerank(graph)\n",
    "ranks"
   ]
  },
  {
   "cell_type": "code",
   "execution_count": 78,
   "metadata": {},
   "outputs": [
    {
     "name": "stdout",
     "output_type": "stream",
     "text": [
      "4 0.07924352805417181 set\n",
      "1 0.07883818813397488 system\n",
      "17 0.06463518976102747 minimal\n",
      "18 0.05797062864286218 solution\n",
      "22 0.04873776072095226 type\n",
      "11 0.047104500480143544 inequation\n",
      "19 0.04405352193022517 algorithm\n",
      "2 0.042073911309562013 linear\n",
      "13 0.033763787713243634 consider\n",
      "15 0.033323392320149345 bound\n",
      "16 0.02832030349584278 component\n",
      "5 0.027663093364345394 natural\n",
      "9 0.027089978802153438 equation\n",
      "10 0.02652393521246918 strict\n",
      "7 0.02628342624067896 criterion\n",
      "24 0.025532282621713576 corresponding\n",
      "8 0.02545458838307635 Diophantine\n",
      "12 0.02502044839873248 nonstrict\n",
      "28 0.024630270521940764 solve\n",
      "0 0.02454710501782348 compatibility\n",
      "27 0.023680377765657637 use\n",
      "20 0.023518613278606198 construction\n",
      "25 0.023518613278606198 construct\n",
      "21 0.022576709832990604 generating\n",
      "26 0.022576709832990604 support\n",
      "3 0.02236063299123213 constraint\n",
      "29 0.021662027629344972 mixed\n",
      "14 0.019163349284110898 upper\n",
      "6 0.01675664351838784 number\n",
      "23 0.013376481462984216 give\n"
     ]
    }
   ],
   "source": [
    "for node_id, rank in sorted(ranks.items(), key=lambda x: x[1], reverse=True):\n",
    "    print(node_id, rank, labels[node_id])"
   ]
  },
  {
   "cell_type": "code",
   "execution_count": 91,
   "metadata": {},
   "outputs": [
    {
     "name": "stdout",
     "output_type": "stream",
     "text": [
      "  compatibility NOUN 0 0.02454710501782348\n",
      "0.07385737760158423 Compatibility 0 1 2\n",
      "  system NOUN 1 0.07883818813397488\n",
      "0.13236161589790874 systems 2 3 2\n",
      "  linear ADJ 2 0.042073911309562013\n",
      "  constraint NOUN 3 0.02236063299123213\n",
      "0.10991577255516563 linear constraints 4 6 3\n",
      "  set NOUN 4 0.07924352805417181\n",
      "0.08445068102079144 the set 7 9 3\n",
      "  natural ADJ 5 0.027663093364345394\n",
      "  number NOUN 6 0.01675664351838784\n",
      "0.09126171522337548 natural numbers 10 12 3\n",
      "  criterion NOUN 7 0.02628342624067896\n",
      "0.0764248741367465 Criteria 13 14 2\n",
      "  compatibility NOUN 0 0.02454710501782348\n",
      "0.07385737760158423 compatibility 15 16 2\n",
      "  system NOUN 1 0.07883818813397488\n",
      "0.08423441655319835 a system 17 19 3\n",
      "  linear ADJ 2 0.042073911309562013\n",
      "  Diophantine PROPN 8 0.02545458838307635\n",
      "  equation NOUN 9 0.027089978802153438\n",
      "0.12304046716087634 linear Diophantine equations 20 23 4\n",
      "  strict ADJ 10 0.02652393521246918\n",
      "  inequation NOUN 11 0.047104500480143544\n",
      "0.11749609224295456 strict inequations 24 26 3\n",
      "  nonstrict NOUN 12 0.02502044839873248\n",
      "  inequation NOUN 11 0.047104500480143544\n",
      "0.11629027437747858 nonstrict inequations 28 30 3\n",
      "  upper ADJ 14 0.019163349284110898\n",
      "  bound NOUN 15 0.033323392320149345\n",
      "0.09920314536746702 Upper bounds 33 35 3\n",
      "  component NOUN 16 0.02832030349584278\n",
      "0.07933095724150788 components 36 37 2\n",
      "  minimal ADJ 17 0.06463518976102747\n",
      "  set NOUN 4 0.07924352805417181\n",
      "0.11308943081186254 a minimal set 38 41 4\n",
      "  solution NOUN 18 0.05797062864286218\n",
      "0.11350049304137863 solutions 42 43 2\n",
      "  algorithm NOUN 19 0.04405352193022517\n",
      "0.09894276901345564 algorithms 44 45 2\n",
      "  construction NOUN 20 0.023518613278606198\n",
      "0.07229355784824075 construction 46 47 2\n",
      "  minimal ADJ 17 0.06463518976102747\n",
      "  generating NOUN 21 0.022576709832990604\n",
      "  set NOUN 4 0.07924352805417181\n",
      "0.16319579781265933 minimal generating sets 48 51 4\n",
      "  solution NOUN 18 0.05797062864286218\n",
      "0.11350049304137863 solutions 52 53 2\n",
      "  type NOUN 22 0.04873776072095226\n",
      "0.06622989102275274 all types 54 56 3\n",
      "  system NOUN 1 0.07883818813397488\n",
      "0.13236161589790874 systems 57 58 2\n",
      "  criterion NOUN 7 0.02628342624067896\n",
      "0.04863649207807967 These criteria 61 63 3\n",
      "  corresponding ADJ 24 0.025532282621713576\n",
      "  algorithm NOUN 19 0.04405352193022517\n",
      "0.07864734483160396 the corresponding algorithms 64 67 4\n",
      "  minimal ADJ 17 0.06463518976102747\n",
      "  support VERB 26 0.022576709832990604\n",
      "  set NOUN 4 0.07924352805417181\n",
      "0.11897215262125786 a minimal supporting set 69 73 5\n",
      "  solution NOUN 18 0.05797062864286218\n",
      "0.11350049304137863 solutions 74 75 2\n",
      "  consider VERB 13 0.033763787713243634\n",
      "  type NOUN 22 0.04873776072095226\n",
      "  system NOUN 1 0.07883818813397488\n",
      "0.09467480498121825 all the considered types systems 80 85 6\n",
      "  system NOUN 1 0.07883818813397488\n",
      "0.13236161589790874 systems 86 87 2\n",
      "  mixed ADJ 29 0.021662027629344972\n",
      "  type NOUN 22 0.04873776072095226\n",
      "0.11489108022679884 mixed types 88 90 3\n"
     ]
    }
   ],
   "source": [
    "import math\n",
    "\n",
    "phrases = {}\n",
    "\n",
    "for chunk in doc.noun_chunks:\n",
    "    sq_sum_rank = 0.0\n",
    "    skipped = 0\n",
    "    compound_key = set([])\n",
    "    \n",
    "    for i in range(chunk.start, chunk.end):\n",
    "        token = doc[i]\n",
    "        key = (token.lemma_, token.pos_)\n",
    "        \n",
    "        if key in seen:\n",
    "            node_id = list(seen.keys()).index(key)\n",
    "            rank = ranks[node_id]\n",
    "            sq_sum_rank += rank\n",
    "            compound_key.add(key)\n",
    "        \n",
    "            print(\" \", token.lemma_, token.pos_, node_id, rank)\n",
    "        else:\n",
    "            skipped += 1\n",
    "\n",
    "    chunk_len = chunk.end - chunk.start + 1\n",
    "    point_estimate = chunk_len / (chunk_len + skipped + 1.0)\n",
    "\n",
    "    phrase_rank = math.sqrt(sq_sum_rank / (chunk_len + skipped)) # root mean square\n",
    "    phrase_rank *= point_estimate\n",
    "    \n",
    "    phrase = chunk.text.lower()\n",
    "    compound_key = tuple(sorted(list(compound_key)))\n",
    "    \n",
    "    if not compound_key in phrases:\n",
    "        phrases[compound_key] = set([ (phrase, phrase_rank) ])\n",
    "    else:\n",
    "        phrases[compound_key].add( (phrase, phrase_rank) )\n",
    "\n",
    "\n",
    "    print(phrase_rank, chunk.text, chunk.start, chunk.end, chunk_len)"
   ]
  },
  {
   "cell_type": "code",
   "execution_count": 102,
   "metadata": {},
   "outputs": [],
   "source": [
    "import operator\n",
    "min_phrases = {}\n",
    "\n",
    "for phrase, rank_tuples in phrases.items():\n",
    "    l = list(rank_tuples)\n",
    "    l.sort(key=operator.itemgetter(1), reverse=True)\n",
    "    phrase, rank = l[0]\n",
    "    min_phrases[phrase] = rank"
   ]
  },
  {
   "cell_type": "code",
   "execution_count": 103,
   "metadata": {},
   "outputs": [
    {
     "name": "stdout",
     "output_type": "stream",
     "text": [
      "minimal generating sets 0.16319579781265933\n",
      "systems 0.13236161589790874\n",
      "linear diophantine equations 0.12304046716087634\n",
      "a minimal supporting set 0.11897215262125786\n",
      "strict inequations 0.11749609224295456\n",
      "nonstrict inequations 0.11629027437747858\n",
      "mixed types 0.11489108022679884\n",
      "solutions 0.11350049304137863\n",
      "a minimal set 0.11308943081186254\n",
      "linear constraints 0.10991577255516563\n",
      "upper bounds 0.09920314536746702\n",
      "algorithms 0.09894276901345564\n",
      "all the considered types systems 0.09467480498121825\n",
      "natural numbers 0.09126171522337548\n",
      "the set 0.08445068102079144\n",
      "components 0.07933095724150788\n",
      "the corresponding algorithms 0.07864734483160396\n",
      "criteria 0.0764248741367465\n",
      "compatibility 0.07385737760158423\n",
      "construction 0.07229355784824075\n",
      "all types 0.06622989102275274\n"
     ]
    }
   ],
   "source": [
    "for phrase, rank in sorted(min_phrases.items(), key=lambda x: x[1], reverse=True):\n",
    "    print(phrase, rank)"
   ]
  },
  {
   "cell_type": "code",
   "execution_count": 104,
   "metadata": {},
   "outputs": [
    {
     "name": "stdout",
     "output_type": "stream",
     "text": [
      "set 0.07924352805417181\n",
      "system 0.07883818813397488\n",
      "minimal 0.06463518976102747\n",
      "solution 0.05797062864286218\n",
      "type 0.04873776072095226\n",
      "inequation 0.047104500480143544\n",
      "algorithm 0.04405352193022517\n",
      "linear 0.042073911309562013\n",
      "consider 0.033763787713243634\n",
      "bound 0.033323392320149345\n",
      "component 0.02832030349584278\n",
      "natural 0.027663093364345394\n",
      "equation 0.027089978802153438\n",
      "strict 0.02652393521246918\n",
      "criterion 0.02628342624067896\n",
      "corresponding 0.025532282621713576\n",
      "Diophantine 0.02545458838307635\n",
      "nonstrict 0.02502044839873248\n",
      "solve 0.024630270521940764\n",
      "compatibility 0.02454710501782348\n",
      "use 0.023680377765657637\n",
      "construction 0.023518613278606198\n",
      "construct 0.023518613278606198\n",
      "generating 0.022576709832990604\n",
      "support 0.022576709832990604\n",
      "constraint 0.02236063299123213\n",
      "mixed 0.021662027629344972\n",
      "upper 0.019163349284110898\n",
      "number 0.01675664351838784\n",
      "give 0.013376481462984216\n"
     ]
    }
   ],
   "source": [
    "for node_id, rank in sorted(ranks.items(), key=lambda x: x[1], reverse=True):\n",
    "    print(labels[node_id], rank)"
   ]
  },
  {
   "cell_type": "code",
   "execution_count": null,
   "metadata": {},
   "outputs": [],
   "source": []
  }
 ],
 "metadata": {
  "kernelspec": {
   "display_name": "Python 3",
   "language": "python",
   "name": "python3"
  },
  "language_info": {
   "codemirror_mode": {
    "name": "ipython",
    "version": 3
   },
   "file_extension": ".py",
   "mimetype": "text/x-python",
   "name": "python",
   "nbconvert_exporter": "python",
   "pygments_lexer": "ipython3",
   "version": "3.7.3"
  }
 },
 "nbformat": 4,
 "nbformat_minor": 2
}
